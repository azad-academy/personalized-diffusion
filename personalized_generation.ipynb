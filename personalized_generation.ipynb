{
  "cells": [
    {
      "cell_type": "markdown",
      "id": "40e415d8",
      "metadata": {
        "id": "40e415d8"
      },
      "source": [
        "[![Open In Colab](https://colab.research.google.com/assets/colab-badge.svg)](https://colab.research.google.com/github/azad-academy/personalized-diffusion/blob/main/personalized_generation.ipynb)"
      ]
    },
    {
      "cell_type": "markdown",
      "id": "288bb469",
      "metadata": {
        "id": "288bb469"
      },
      "source": [
        "# Personalized Diffusion For Customized Image Synthesis \n",
        "\n",
        "#### Author : J. Rafid Siddiqui (jrs@azaditech.com)\n",
        "\n",
        "![Stable Diffusion Model Image](https://github.com/azad-academy/personalized-diffusion/blob/main/cover.png?raw=true)\n",
        "\n",
        "                                Personalization/Customization of Stable Diffusion Models.\n",
        " "
      ]
    },
    {
      "cell_type": "markdown",
      "source": [
        "### Getting the Repo"
      ],
      "metadata": {
        "id": "w1J0qTsX_fwz"
      },
      "id": "w1J0qTsX_fwz"
    },
    {
      "cell_type": "code",
      "source": [
        "!git clone https://github.com/azad-academy/personalized-diffusion.git personalized-diffusion\n",
        "%cd personalized-diffusion"
      ],
      "metadata": {
        "id": "JVBYvqT-_SN_",
        "colab": {
          "base_uri": "https://localhost:8080/"
        },
        "outputId": "0a70bb9f-7385-438b-cf1b-8308c65155ae"
      },
      "id": "JVBYvqT-_SN_",
      "execution_count": 11,
      "outputs": [
        {
          "output_type": "stream",
          "name": "stdout",
          "text": [
            "Cloning into 'personalized-diffusion'...\n",
            "remote: Enumerating objects: 96, done.\u001b[K\n",
            "remote: Counting objects: 100% (5/5), done.\u001b[K\n",
            "remote: Compressing objects: 100% (5/5), done.\u001b[K\n",
            "remote: Total 96 (delta 0), reused 3 (delta 0), pack-reused 91\u001b[K\n",
            "Unpacking objects: 100% (96/96), done.\n",
            "/content/personalized-diffusion\n"
          ]
        }
      ]
    },
    {
      "cell_type": "markdown",
      "id": "eccb6fec",
      "metadata": {
        "id": "eccb6fec"
      },
      "source": [
        "# Pre-requisites, Imports and Initializers"
      ]
    },
    {
      "cell_type": "code",
      "execution_count": 12,
      "id": "in7n1D6VcIZe",
      "metadata": {
        "id": "in7n1D6VcIZe",
        "cellView": "form",
        "colab": {
          "base_uri": "https://localhost:8080/"
        },
        "outputId": "b24ce677-6cbe-4373-f5f2-01d04ce9f2c0"
      },
      "outputs": [
        {
          "output_type": "stream",
          "name": "stdout",
          "text": [
            "Done. Installed all packages\n"
          ]
        }
      ],
      "source": [
        "#@markdown # Pre-requisites\n",
        "from IPython.display import clear_output\n",
        "from subprocess import getoutput\n",
        "from IPython.utils import capture\n",
        "\n",
        "!git clone https://github.com/TheLastBen/diffusers\n",
        "!pip install git+https://github.com/TheLastBen/diffusers\n",
        "%pip install transformers\n",
        "%pip install ftfy\n",
        "%pip install accelerate==0.12.0\n",
        "%pip install bitsandbytes\n",
        "%pip install -q triton==2.0.0.dev20220701\n",
        "clear_output()\n",
        "print(\"Done. Installed all packages\")"
      ]
    },
    {
      "cell_type": "code",
      "source": [
        "#@markdown # xformers (Needed for choosing the optimal setting for the respective GPU on Google Colab)\n",
        "\n",
        "from subprocess import getoutput\n",
        "from IPython.display import HTML\n",
        "from IPython.display import clear_output\n",
        "import time\n",
        "\n",
        "s = getoutput('nvidia-smi')\n",
        "if 'T4' in s:\n",
        "  gpu = 'T4'\n",
        "elif 'P100' in s:\n",
        "  gpu = 'P100'\n",
        "elif 'V100' in s:\n",
        "  gpu = 'V100'\n",
        "elif 'A100' in s:\n",
        "  gpu = 'A100'\n",
        "\n",
        "while True:\n",
        "    try: \n",
        "        gpu=='T4'or gpu=='P100'or gpu=='V100'or gpu=='A100'\n",
        "        break\n",
        "    except:\n",
        "        pass\n",
        "    print('\u001b[1;31mit seems that your GPU is not supported at the moment')\n",
        "    time.sleep(5)\n",
        "\n",
        "if (gpu=='T4'):\n",
        "  %pip install https://github.com/TheLastBen/fast-stable-diffusion/raw/main/precompiled/T4/xformers-0.0.13.dev0-py3-none-any.whl\n",
        "  \n",
        "elif (gpu=='P100'):\n",
        "  %pip install https://github.com/TheLastBen/fast-stable-diffusion/raw/main/precompiled/P100/xformers-0.0.13.dev0-py3-none-any.whl\n",
        "\n",
        "elif (gpu=='V100'):\n",
        "  %pip install https://github.com/TheLastBen/fast-stable-diffusion/raw/main/precompiled/V100/xformers-0.0.13.dev0-py3-none-any.whl\n",
        "\n",
        "elif (gpu=='A100'):\n",
        "  %pip install https://github.com/TheLastBen/fast-stable-diffusion/raw/main/precompiled/A100/xformers-0.0.13.dev0-py3-none-any.whl  \n",
        "\n",
        "clear_output()\n",
        "print('\u001b[1;32mDONE !')"
      ],
      "metadata": {
        "cellView": "form",
        "id": "ncKdp7hykDlX",
        "colab": {
          "base_uri": "https://localhost:8080/"
        },
        "outputId": "9f846e65-fae9-4e39-bc84-0971eeecf94b"
      },
      "id": "ncKdp7hykDlX",
      "execution_count": 13,
      "outputs": [
        {
          "output_type": "stream",
          "name": "stdout",
          "text": [
            "\u001b[1;32mDONE !\n"
          ]
        }
      ]
    },
    {
      "cell_type": "code",
      "source": [
        "from IPython.display import clear_output\n",
        "#Installing dependent models\n",
        "!python setup_pre-models.py\n",
        "clear_output()"
      ],
      "metadata": {
        "id": "ZlOEqBk64uYB"
      },
      "id": "ZlOEqBk64uYB",
      "execution_count": 14,
      "outputs": []
    },
    {
      "cell_type": "markdown",
      "source": [
        "## HuggingFace Login"
      ],
      "metadata": {
        "id": "OIYcoS-N5eeg"
      },
      "id": "OIYcoS-N5eeg"
    },
    {
      "cell_type": "code",
      "source": [
        "#HuggingFace Login\n",
        "\n",
        "from huggingface_hub import notebook_login\n",
        "notebook_login()\n"
      ],
      "metadata": {
        "colab": {
          "base_uri": "https://localhost:8080/",
          "height": 299,
          "referenced_widgets": [
            "5542cfdb845c45d9a182da64dff2894b",
            "51214b8eba8743a0a5dfaf6b9049f765",
            "1ca727dbce8a456298b7f4f048741591",
            "abaec107b8274bde802a806914993c25",
            "ee48c58dc8184f6a853722f463a264d3",
            "47ebbf43a8b940a7b4f08e3123a838d7",
            "c1664cd554ad410db4660e81511dbfcf",
            "e2ed8d7059234727a583e76ffbd72b76",
            "25bec72a869540d09f1757aac93bbb54",
            "a4ef2e0370084b89b9709095906313be",
            "aba7ba846cdd4e00be52b2cf86489f3c",
            "b406a567c96240c6a4262208d66f3cea",
            "2858880f5a2e465ba4b7ab162e1902d8",
            "9e5fd7b424134ad8bfcbbc85d2607706"
          ]
        },
        "id": "CwIcRAA-62SO",
        "outputId": "6df745e6-433b-4917-94f8-5f8d4c21636c"
      },
      "id": "CwIcRAA-62SO",
      "execution_count": 15,
      "outputs": [
        {
          "output_type": "stream",
          "name": "stdout",
          "text": [
            "Login successful\n",
            "Your token has been saved to /root/.huggingface/token\n"
          ]
        }
      ]
    },
    {
      "cell_type": "markdown",
      "id": "z-VkmibaWtb2",
      "metadata": {
        "id": "z-VkmibaWtb2"
      },
      "source": [
        "### Mounting the Google Drive\n",
        "Execute this, If you would want to keep the session active and not login or download model again and again."
      ]
    },
    {
      "cell_type": "code",
      "execution_count": 16,
      "id": "Rsd7IELtWr-Y",
      "metadata": {
        "colab": {
          "base_uri": "https://localhost:8080/"
        },
        "id": "Rsd7IELtWr-Y",
        "outputId": "a704718d-6613-4a77-f230-efcb866c2fab"
      },
      "outputs": [
        {
          "output_type": "stream",
          "name": "stdout",
          "text": [
            "Mounted at /content/drive/\n"
          ]
        }
      ],
      "source": [
        "from google.colab import drive\n",
        "drive.mount('/content/drive/')\n",
        "\n",
        "cache_dir = \"/content/drive/MyDrive/Colab Notebooks/weights\" #@param {type:\"string\"}\n",
        "cache_drive = True"
      ]
    },
    {
      "cell_type": "code",
      "source": [
        "from huggingface_hub import hf_hub_download\n",
        "print(\"Downloading the model, Please Wait...\")\n",
        "model_path = hf_hub_download(repo_id=\"CompVis/stable-diffusion-v-1-4-original\", filename=\"sd-v1-4.ckpt\",cache_dir=\"/content/drive/MyDrive/Colab Notebooks/weights\")\n",
        "print(\"Downloaded Model: \"+ model_path)\n"
      ],
      "metadata": {
        "colab": {
          "base_uri": "https://localhost:8080/",
          "height": 105,
          "referenced_widgets": [
            "8bfe16f446494543b4af5130af15fe72",
            "20f384bc65ea48b6b53188a591256da9",
            "5516719dc67a488698c09d460eb2c7d2",
            "6be44dd50afc4f5692d9746a912e641d",
            "23085565f53b419c9f1ed48ca22708b3",
            "82577f5739f54741adbdb1b38b073966",
            "c3ecb2e150f24a56b4213e7f7af530e8",
            "78186f0fb15249ee875da79f20ab8b37",
            "502d2912548f44f0a91aff7910b07da1",
            "a63890a471e947b6a36c42a421623efb",
            "7d4b99891430465db784086863789a75"
          ]
        },
        "id": "ENA4tSLJvg3m",
        "outputId": "3d0e997b-dace-4e52-afdc-e9245a80a606"
      },
      "id": "ENA4tSLJvg3m",
      "execution_count": 17,
      "outputs": [
        {
          "output_type": "stream",
          "name": "stdout",
          "text": [
            "Downloading the model, Please Wait...\n"
          ]
        },
        {
          "output_type": "display_data",
          "data": {
            "text/plain": [
              "Downloading:   0%|          | 0.00/4.27G [00:00<?, ?B/s]"
            ],
            "application/vnd.jupyter.widget-view+json": {
              "version_major": 2,
              "version_minor": 0,
              "model_id": "8bfe16f446494543b4af5130af15fe72"
            }
          },
          "metadata": {}
        },
        {
          "output_type": "stream",
          "name": "stdout",
          "text": [
            "Downloaded Model: /content/drive/MyDrive/Colab Notebooks/weights/models--CompVis--stable-diffusion-v-1-4-original/snapshots/0834a76f88354683d3f7ef271cadd28f4757a8cc/sd-v1-4.ckpt\n"
          ]
        }
      ]
    },
    {
      "cell_type": "markdown",
      "source": [
        "## Texual Inversion"
      ],
      "metadata": {
        "id": "vdMWJGpU8TNT"
      },
      "id": "vdMWJGpU8TNT"
    },
    {
      "cell_type": "markdown",
      "source": [
        "### Generating Customized Images using the Learned Embeddings:"
      ],
      "metadata": {
        "id": "j433AH0D8ytw"
      },
      "id": "j433AH0D8ytw"
    },
    {
      "cell_type": "code",
      "source": [
        "import os\n",
        "from IPython.display import clear_output\n",
        "from subprocess import getoutput\n",
        "from IPython.utils import capture\n",
        "import time\n",
        "\n",
        "EMBEDDING__NAME=\"shifu\" #@param{type: 'string'}\n",
        "\n",
        "MODEL_PATH='' #@param{type:'string'}         \n",
        "#@markdown #Leave empty path if you've already downloaded to drive using above cell\n",
        "if model_path:\n",
        "  MODEL_PATH=model_path\n",
        "\n",
        "#Copy the embeddings in the WebUI directory\n",
        "!cp /content/personalized-diffusion/embeddings/* /content/personalized-diffusion/stable-diffusion-webui/embeddings/"
      ],
      "metadata": {
        "id": "Qs5OMSox8uFX"
      },
      "id": "Qs5OMSox8uFX",
      "execution_count": 18,
      "outputs": []
    },
    {
      "cell_type": "markdown",
      "source": [
        "### Running the Web Interface\n",
        "1. Run the following cell to start a Local Web Server for the SD Image Tool. \n",
        "2. Click on the URL in the output of the cell which redirect to a local  tunnel. \n",
        "3. Click on the continue button on the webpage to reach the interface of the SD Image Tool.\n",
        "4. Use name of the embedding (e.g. shifu, aphrodite etc.) in the prompt and it will automatically be loaded.\n"
      ],
      "metadata": {
        "id": "NpC-RXW4byb9"
      },
      "id": "NpC-RXW4byb9"
    },
    {
      "cell_type": "code",
      "source": [
        "#Running the Web SD Tool\n",
        "%cd /content/personalized-diffusion/stable-diffusion/\n",
        "!python ../run.py \"{MODEL_PATH}\""
      ],
      "metadata": {
        "id": "yFritrJq46ta"
      },
      "id": "yFritrJq46ta",
      "execution_count": null,
      "outputs": []
    },
    {
      "cell_type": "markdown",
      "id": "j5Y5qlSvYV8U",
      "metadata": {
        "id": "j5Y5qlSvYV8U"
      },
      "source": [
        "## Customized Image Generation with DreamBooth\n"
      ]
    },
    {
      "cell_type": "markdown",
      "id": "H7K3lEr3bhAy",
      "metadata": {
        "id": "H7K3lEr3bhAy"
      },
      "source": [
        "### Downloading the fine-tuned models\n"
      ]
    },
    {
      "cell_type": "code",
      "source": [
        "#Downloading the Models Fine-Tuned on different objects (e.g. pegasus, android, etc.)\n",
        "\n",
        "if not os.path.exists(\"/content/personalized-diffusion/models/pegasus.ckpt\"):\n",
        "    !wget https://huggingface.co/azad-wolf-se/personalized-diffusion/resolve/main/pegasus.ckpt -O /content/personalized-diffusion/models/pegasus.ckpt\n",
        "if not os.path.exists(\"/content/personalized-diffusion/models/centaur.ckpt\"):\n",
        "    !wget https://huggingface.co/azad-wolf-se/personalized-diffusion/resolve/main/centaur.ckpt -O /content/personalized-diffusion/models/centaur.ckpt\n",
        "if not os.path.exists(\"/content/personalized-diffusion/models/android.ckpt\"):\n",
        "    !wget https://huggingface.co/azad-wolf-se/personalized-diffusion/resolve/main/android.ckpt -O /content/personalized-diffusion/models/android.ckpt\n",
        "if not os.path.exists(\"/content/personalized-diffusion/models/Gru.ckpt\"):\n",
        "    !wget https://huggingface.co/azad-wolf-se/personalized-diffusion/resolve/main/Gru.ckpt -O /content/personalized-diffusion/models/Gru.ckpt\n",
        "\n",
        "clear_output()"
      ],
      "metadata": {
        "id": "Tuq5omS7lSTy"
      },
      "id": "Tuq5omS7lSTy",
      "execution_count": null,
      "outputs": []
    },
    {
      "cell_type": "code",
      "source": [
        "import os\n",
        "from IPython.display import clear_output\n",
        "from subprocess import getoutput\n",
        "from IPython.utils import capture\n",
        "import time\n",
        "\n",
        "MODEL_NAME=\"centaur\" #@param{type: 'string'}\n",
        "\n",
        "MODEL_PATH='/content/personalized-diffusion/models/' #@param{type:'string'}         \n",
        "MODEL_PATH=MODEL_PATH+\"{}\".format(MODEL_NAME)+\".ckpt\"\n"
      ],
      "metadata": {
        "id": "QcpzXFmtQyjE"
      },
      "id": "QcpzXFmtQyjE",
      "execution_count": null,
      "outputs": []
    },
    {
      "cell_type": "markdown",
      "id": "9POraum_rEmb",
      "metadata": {
        "id": "9POraum_rEmb"
      },
      "source": [
        "### Running SD with the customized Model"
      ]
    },
    {
      "cell_type": "code",
      "source": [
        "#Running the SD Web Tool (You might need to stop the earlier running tool)\n",
        "%cd /content/personalized-diffusion/stable-diffusion/\n",
        "!python ../run.py \"{MODEL_PATH}\"\n"
      ],
      "metadata": {
        "id": "NLhCnaxcm8Y4"
      },
      "id": "NLhCnaxcm8Y4",
      "execution_count": null,
      "outputs": []
    },
    {
      "cell_type": "markdown",
      "id": "bb416a34",
      "metadata": {
        "id": "bb416a34"
      },
      "source": [
        "# References"
      ]
    },
    {
      "cell_type": "markdown",
      "id": "9dc4bcbb",
      "metadata": {
        "id": "9dc4bcbb"
      },
      "source": [
        "\n",
        "[1] Robin Rombach, Andreas Blattmann, Dominik Lorenz, Patrick Esser, Björn Ommer, [Latent Diffusion Models](https://arxiv.org/abs/2112.10752), 2022\n",
        "\n",
        "[2] Rinon Gal, Yuval Alaluf, Yuval Atzmon, Or Patashnik, Amit H. Bermano, Gal Chechik, Daniel Cohen-Or, [An Image is Worth One Word: Personalizing Text-to-Image Generation using Textual Inversion](https://arxiv.org/abs/2208.01618), 2022\n",
        "\n",
        "[3] Nataniel Ruiz, Yuanzhen Li, Varun Jampani, Yael Pritch, Michael Rubinstein, Kfir Aberman, [DreamBooth: Fine Tuning Text-to-Image Diffusion Models for Subject-Driven Generation](https://arxiv.org/abs/2208.12242), 2022"
      ]
    }
  ],
  "metadata": {
    "accelerator": "GPU",
    "colab": {
      "collapsed_sections": [],
      "provenance": []
    },
    "kernelspec": {
      "display_name": "Python 3 (ipykernel)",
      "language": "python",
      "name": "python3"
    },
    "language_info": {
      "codemirror_mode": {
        "name": "ipython",
        "version": 3
      },
      "file_extension": ".py",
      "mimetype": "text/x-python",
      "name": "python",
      "nbconvert_exporter": "python",
      "pygments_lexer": "ipython3",
      "version": "3.9.7"
    },
    "widgets": {
      "application/vnd.jupyter.widget-state+json": {
        "5542cfdb845c45d9a182da64dff2894b": {
          "model_module": "@jupyter-widgets/controls",
          "model_name": "VBoxModel",
          "model_module_version": "1.5.0",
          "state": {
            "_dom_classes": [],
            "_model_module": "@jupyter-widgets/controls",
            "_model_module_version": "1.5.0",
            "_model_name": "VBoxModel",
            "_view_count": null,
            "_view_module": "@jupyter-widgets/controls",
            "_view_module_version": "1.5.0",
            "_view_name": "VBoxView",
            "box_style": "",
            "children": [
              "IPY_MODEL_51214b8eba8743a0a5dfaf6b9049f765",
              "IPY_MODEL_1ca727dbce8a456298b7f4f048741591",
              "IPY_MODEL_abaec107b8274bde802a806914993c25",
              "IPY_MODEL_ee48c58dc8184f6a853722f463a264d3"
            ],
            "layout": "IPY_MODEL_47ebbf43a8b940a7b4f08e3123a838d7"
          }
        },
        "51214b8eba8743a0a5dfaf6b9049f765": {
          "model_module": "@jupyter-widgets/controls",
          "model_name": "HTMLModel",
          "model_module_version": "1.5.0",
          "state": {
            "_dom_classes": [],
            "_model_module": "@jupyter-widgets/controls",
            "_model_module_version": "1.5.0",
            "_model_name": "HTMLModel",
            "_view_count": null,
            "_view_module": "@jupyter-widgets/controls",
            "_view_module_version": "1.5.0",
            "_view_name": "HTMLView",
            "description": "",
            "description_tooltip": null,
            "layout": "IPY_MODEL_c1664cd554ad410db4660e81511dbfcf",
            "placeholder": "​",
            "style": "IPY_MODEL_e2ed8d7059234727a583e76ffbd72b76",
            "value": "<center> <img\nsrc=https://huggingface.co/front/assets/huggingface_logo-noborder.svg\nalt='Hugging Face'> <br> Copy a token from <a\nhref=\"https://huggingface.co/settings/tokens\" target=\"_blank\">your Hugging Face\ntokens page</a> and paste it below. <br> Immediately click login after copying\nyour token or it might be stored in plain text in this notebook file. </center>"
          }
        },
        "1ca727dbce8a456298b7f4f048741591": {
          "model_module": "@jupyter-widgets/controls",
          "model_name": "PasswordModel",
          "model_module_version": "1.5.0",
          "state": {
            "_dom_classes": [],
            "_model_module": "@jupyter-widgets/controls",
            "_model_module_version": "1.5.0",
            "_model_name": "PasswordModel",
            "_view_count": null,
            "_view_module": "@jupyter-widgets/controls",
            "_view_module_version": "1.5.0",
            "_view_name": "PasswordView",
            "continuous_update": true,
            "description": "Token:",
            "description_tooltip": null,
            "disabled": false,
            "layout": "IPY_MODEL_25bec72a869540d09f1757aac93bbb54",
            "placeholder": "​",
            "style": "IPY_MODEL_a4ef2e0370084b89b9709095906313be",
            "value": ""
          }
        },
        "abaec107b8274bde802a806914993c25": {
          "model_module": "@jupyter-widgets/controls",
          "model_name": "ButtonModel",
          "model_module_version": "1.5.0",
          "state": {
            "_dom_classes": [],
            "_model_module": "@jupyter-widgets/controls",
            "_model_module_version": "1.5.0",
            "_model_name": "ButtonModel",
            "_view_count": null,
            "_view_module": "@jupyter-widgets/controls",
            "_view_module_version": "1.5.0",
            "_view_name": "ButtonView",
            "button_style": "",
            "description": "Login",
            "disabled": false,
            "icon": "",
            "layout": "IPY_MODEL_aba7ba846cdd4e00be52b2cf86489f3c",
            "style": "IPY_MODEL_b406a567c96240c6a4262208d66f3cea",
            "tooltip": ""
          }
        },
        "ee48c58dc8184f6a853722f463a264d3": {
          "model_module": "@jupyter-widgets/controls",
          "model_name": "HTMLModel",
          "model_module_version": "1.5.0",
          "state": {
            "_dom_classes": [],
            "_model_module": "@jupyter-widgets/controls",
            "_model_module_version": "1.5.0",
            "_model_name": "HTMLModel",
            "_view_count": null,
            "_view_module": "@jupyter-widgets/controls",
            "_view_module_version": "1.5.0",
            "_view_name": "HTMLView",
            "description": "",
            "description_tooltip": null,
            "layout": "IPY_MODEL_2858880f5a2e465ba4b7ab162e1902d8",
            "placeholder": "​",
            "style": "IPY_MODEL_9e5fd7b424134ad8bfcbbc85d2607706",
            "value": "\n<b>Pro Tip:</b> If you don't already have one, you can create a dedicated\n'notebooks' token with 'write' access, that you can then easily reuse for all\nnotebooks. </center>"
          }
        },
        "47ebbf43a8b940a7b4f08e3123a838d7": {
          "model_module": "@jupyter-widgets/base",
          "model_name": "LayoutModel",
          "model_module_version": "1.2.0",
          "state": {
            "_model_module": "@jupyter-widgets/base",
            "_model_module_version": "1.2.0",
            "_model_name": "LayoutModel",
            "_view_count": null,
            "_view_module": "@jupyter-widgets/base",
            "_view_module_version": "1.2.0",
            "_view_name": "LayoutView",
            "align_content": null,
            "align_items": "center",
            "align_self": null,
            "border": null,
            "bottom": null,
            "display": "flex",
            "flex": null,
            "flex_flow": "column",
            "grid_area": null,
            "grid_auto_columns": null,
            "grid_auto_flow": null,
            "grid_auto_rows": null,
            "grid_column": null,
            "grid_gap": null,
            "grid_row": null,
            "grid_template_areas": null,
            "grid_template_columns": null,
            "grid_template_rows": null,
            "height": null,
            "justify_content": null,
            "justify_items": null,
            "left": null,
            "margin": null,
            "max_height": null,
            "max_width": null,
            "min_height": null,
            "min_width": null,
            "object_fit": null,
            "object_position": null,
            "order": null,
            "overflow": null,
            "overflow_x": null,
            "overflow_y": null,
            "padding": null,
            "right": null,
            "top": null,
            "visibility": null,
            "width": "50%"
          }
        },
        "c1664cd554ad410db4660e81511dbfcf": {
          "model_module": "@jupyter-widgets/base",
          "model_name": "LayoutModel",
          "model_module_version": "1.2.0",
          "state": {
            "_model_module": "@jupyter-widgets/base",
            "_model_module_version": "1.2.0",
            "_model_name": "LayoutModel",
            "_view_count": null,
            "_view_module": "@jupyter-widgets/base",
            "_view_module_version": "1.2.0",
            "_view_name": "LayoutView",
            "align_content": null,
            "align_items": null,
            "align_self": null,
            "border": null,
            "bottom": null,
            "display": null,
            "flex": null,
            "flex_flow": null,
            "grid_area": null,
            "grid_auto_columns": null,
            "grid_auto_flow": null,
            "grid_auto_rows": null,
            "grid_column": null,
            "grid_gap": null,
            "grid_row": null,
            "grid_template_areas": null,
            "grid_template_columns": null,
            "grid_template_rows": null,
            "height": null,
            "justify_content": null,
            "justify_items": null,
            "left": null,
            "margin": null,
            "max_height": null,
            "max_width": null,
            "min_height": null,
            "min_width": null,
            "object_fit": null,
            "object_position": null,
            "order": null,
            "overflow": null,
            "overflow_x": null,
            "overflow_y": null,
            "padding": null,
            "right": null,
            "top": null,
            "visibility": null,
            "width": null
          }
        },
        "e2ed8d7059234727a583e76ffbd72b76": {
          "model_module": "@jupyter-widgets/controls",
          "model_name": "DescriptionStyleModel",
          "model_module_version": "1.5.0",
          "state": {
            "_model_module": "@jupyter-widgets/controls",
            "_model_module_version": "1.5.0",
            "_model_name": "DescriptionStyleModel",
            "_view_count": null,
            "_view_module": "@jupyter-widgets/base",
            "_view_module_version": "1.2.0",
            "_view_name": "StyleView",
            "description_width": ""
          }
        },
        "25bec72a869540d09f1757aac93bbb54": {
          "model_module": "@jupyter-widgets/base",
          "model_name": "LayoutModel",
          "model_module_version": "1.2.0",
          "state": {
            "_model_module": "@jupyter-widgets/base",
            "_model_module_version": "1.2.0",
            "_model_name": "LayoutModel",
            "_view_count": null,
            "_view_module": "@jupyter-widgets/base",
            "_view_module_version": "1.2.0",
            "_view_name": "LayoutView",
            "align_content": null,
            "align_items": null,
            "align_self": null,
            "border": null,
            "bottom": null,
            "display": null,
            "flex": null,
            "flex_flow": null,
            "grid_area": null,
            "grid_auto_columns": null,
            "grid_auto_flow": null,
            "grid_auto_rows": null,
            "grid_column": null,
            "grid_gap": null,
            "grid_row": null,
            "grid_template_areas": null,
            "grid_template_columns": null,
            "grid_template_rows": null,
            "height": null,
            "justify_content": null,
            "justify_items": null,
            "left": null,
            "margin": null,
            "max_height": null,
            "max_width": null,
            "min_height": null,
            "min_width": null,
            "object_fit": null,
            "object_position": null,
            "order": null,
            "overflow": null,
            "overflow_x": null,
            "overflow_y": null,
            "padding": null,
            "right": null,
            "top": null,
            "visibility": null,
            "width": null
          }
        },
        "a4ef2e0370084b89b9709095906313be": {
          "model_module": "@jupyter-widgets/controls",
          "model_name": "DescriptionStyleModel",
          "model_module_version": "1.5.0",
          "state": {
            "_model_module": "@jupyter-widgets/controls",
            "_model_module_version": "1.5.0",
            "_model_name": "DescriptionStyleModel",
            "_view_count": null,
            "_view_module": "@jupyter-widgets/base",
            "_view_module_version": "1.2.0",
            "_view_name": "StyleView",
            "description_width": ""
          }
        },
        "aba7ba846cdd4e00be52b2cf86489f3c": {
          "model_module": "@jupyter-widgets/base",
          "model_name": "LayoutModel",
          "model_module_version": "1.2.0",
          "state": {
            "_model_module": "@jupyter-widgets/base",
            "_model_module_version": "1.2.0",
            "_model_name": "LayoutModel",
            "_view_count": null,
            "_view_module": "@jupyter-widgets/base",
            "_view_module_version": "1.2.0",
            "_view_name": "LayoutView",
            "align_content": null,
            "align_items": null,
            "align_self": null,
            "border": null,
            "bottom": null,
            "display": null,
            "flex": null,
            "flex_flow": null,
            "grid_area": null,
            "grid_auto_columns": null,
            "grid_auto_flow": null,
            "grid_auto_rows": null,
            "grid_column": null,
            "grid_gap": null,
            "grid_row": null,
            "grid_template_areas": null,
            "grid_template_columns": null,
            "grid_template_rows": null,
            "height": null,
            "justify_content": null,
            "justify_items": null,
            "left": null,
            "margin": null,
            "max_height": null,
            "max_width": null,
            "min_height": null,
            "min_width": null,
            "object_fit": null,
            "object_position": null,
            "order": null,
            "overflow": null,
            "overflow_x": null,
            "overflow_y": null,
            "padding": null,
            "right": null,
            "top": null,
            "visibility": null,
            "width": null
          }
        },
        "b406a567c96240c6a4262208d66f3cea": {
          "model_module": "@jupyter-widgets/controls",
          "model_name": "ButtonStyleModel",
          "model_module_version": "1.5.0",
          "state": {
            "_model_module": "@jupyter-widgets/controls",
            "_model_module_version": "1.5.0",
            "_model_name": "ButtonStyleModel",
            "_view_count": null,
            "_view_module": "@jupyter-widgets/base",
            "_view_module_version": "1.2.0",
            "_view_name": "StyleView",
            "button_color": null,
            "font_weight": ""
          }
        },
        "2858880f5a2e465ba4b7ab162e1902d8": {
          "model_module": "@jupyter-widgets/base",
          "model_name": "LayoutModel",
          "model_module_version": "1.2.0",
          "state": {
            "_model_module": "@jupyter-widgets/base",
            "_model_module_version": "1.2.0",
            "_model_name": "LayoutModel",
            "_view_count": null,
            "_view_module": "@jupyter-widgets/base",
            "_view_module_version": "1.2.0",
            "_view_name": "LayoutView",
            "align_content": null,
            "align_items": null,
            "align_self": null,
            "border": null,
            "bottom": null,
            "display": null,
            "flex": null,
            "flex_flow": null,
            "grid_area": null,
            "grid_auto_columns": null,
            "grid_auto_flow": null,
            "grid_auto_rows": null,
            "grid_column": null,
            "grid_gap": null,
            "grid_row": null,
            "grid_template_areas": null,
            "grid_template_columns": null,
            "grid_template_rows": null,
            "height": null,
            "justify_content": null,
            "justify_items": null,
            "left": null,
            "margin": null,
            "max_height": null,
            "max_width": null,
            "min_height": null,
            "min_width": null,
            "object_fit": null,
            "object_position": null,
            "order": null,
            "overflow": null,
            "overflow_x": null,
            "overflow_y": null,
            "padding": null,
            "right": null,
            "top": null,
            "visibility": null,
            "width": null
          }
        },
        "9e5fd7b424134ad8bfcbbc85d2607706": {
          "model_module": "@jupyter-widgets/controls",
          "model_name": "DescriptionStyleModel",
          "model_module_version": "1.5.0",
          "state": {
            "_model_module": "@jupyter-widgets/controls",
            "_model_module_version": "1.5.0",
            "_model_name": "DescriptionStyleModel",
            "_view_count": null,
            "_view_module": "@jupyter-widgets/base",
            "_view_module_version": "1.2.0",
            "_view_name": "StyleView",
            "description_width": ""
          }
        },
        "8bfe16f446494543b4af5130af15fe72": {
          "model_module": "@jupyter-widgets/controls",
          "model_name": "HBoxModel",
          "model_module_version": "1.5.0",
          "state": {
            "_dom_classes": [],
            "_model_module": "@jupyter-widgets/controls",
            "_model_module_version": "1.5.0",
            "_model_name": "HBoxModel",
            "_view_count": null,
            "_view_module": "@jupyter-widgets/controls",
            "_view_module_version": "1.5.0",
            "_view_name": "HBoxView",
            "box_style": "",
            "children": [
              "IPY_MODEL_20f384bc65ea48b6b53188a591256da9",
              "IPY_MODEL_5516719dc67a488698c09d460eb2c7d2",
              "IPY_MODEL_6be44dd50afc4f5692d9746a912e641d"
            ],
            "layout": "IPY_MODEL_23085565f53b419c9f1ed48ca22708b3"
          }
        },
        "20f384bc65ea48b6b53188a591256da9": {
          "model_module": "@jupyter-widgets/controls",
          "model_name": "HTMLModel",
          "model_module_version": "1.5.0",
          "state": {
            "_dom_classes": [],
            "_model_module": "@jupyter-widgets/controls",
            "_model_module_version": "1.5.0",
            "_model_name": "HTMLModel",
            "_view_count": null,
            "_view_module": "@jupyter-widgets/controls",
            "_view_module_version": "1.5.0",
            "_view_name": "HTMLView",
            "description": "",
            "description_tooltip": null,
            "layout": "IPY_MODEL_82577f5739f54741adbdb1b38b073966",
            "placeholder": "​",
            "style": "IPY_MODEL_c3ecb2e150f24a56b4213e7f7af530e8",
            "value": "Downloading: 100%"
          }
        },
        "5516719dc67a488698c09d460eb2c7d2": {
          "model_module": "@jupyter-widgets/controls",
          "model_name": "FloatProgressModel",
          "model_module_version": "1.5.0",
          "state": {
            "_dom_classes": [],
            "_model_module": "@jupyter-widgets/controls",
            "_model_module_version": "1.5.0",
            "_model_name": "FloatProgressModel",
            "_view_count": null,
            "_view_module": "@jupyter-widgets/controls",
            "_view_module_version": "1.5.0",
            "_view_name": "ProgressView",
            "bar_style": "success",
            "description": "",
            "description_tooltip": null,
            "layout": "IPY_MODEL_78186f0fb15249ee875da79f20ab8b37",
            "max": 4265380512,
            "min": 0,
            "orientation": "horizontal",
            "style": "IPY_MODEL_502d2912548f44f0a91aff7910b07da1",
            "value": 4265380512
          }
        },
        "6be44dd50afc4f5692d9746a912e641d": {
          "model_module": "@jupyter-widgets/controls",
          "model_name": "HTMLModel",
          "model_module_version": "1.5.0",
          "state": {
            "_dom_classes": [],
            "_model_module": "@jupyter-widgets/controls",
            "_model_module_version": "1.5.0",
            "_model_name": "HTMLModel",
            "_view_count": null,
            "_view_module": "@jupyter-widgets/controls",
            "_view_module_version": "1.5.0",
            "_view_name": "HTMLView",
            "description": "",
            "description_tooltip": null,
            "layout": "IPY_MODEL_a63890a471e947b6a36c42a421623efb",
            "placeholder": "​",
            "style": "IPY_MODEL_7d4b99891430465db784086863789a75",
            "value": " 4.27G/4.27G [01:31&lt;00:00, 49.0MB/s]"
          }
        },
        "23085565f53b419c9f1ed48ca22708b3": {
          "model_module": "@jupyter-widgets/base",
          "model_name": "LayoutModel",
          "model_module_version": "1.2.0",
          "state": {
            "_model_module": "@jupyter-widgets/base",
            "_model_module_version": "1.2.0",
            "_model_name": "LayoutModel",
            "_view_count": null,
            "_view_module": "@jupyter-widgets/base",
            "_view_module_version": "1.2.0",
            "_view_name": "LayoutView",
            "align_content": null,
            "align_items": null,
            "align_self": null,
            "border": null,
            "bottom": null,
            "display": null,
            "flex": null,
            "flex_flow": null,
            "grid_area": null,
            "grid_auto_columns": null,
            "grid_auto_flow": null,
            "grid_auto_rows": null,
            "grid_column": null,
            "grid_gap": null,
            "grid_row": null,
            "grid_template_areas": null,
            "grid_template_columns": null,
            "grid_template_rows": null,
            "height": null,
            "justify_content": null,
            "justify_items": null,
            "left": null,
            "margin": null,
            "max_height": null,
            "max_width": null,
            "min_height": null,
            "min_width": null,
            "object_fit": null,
            "object_position": null,
            "order": null,
            "overflow": null,
            "overflow_x": null,
            "overflow_y": null,
            "padding": null,
            "right": null,
            "top": null,
            "visibility": null,
            "width": null
          }
        },
        "82577f5739f54741adbdb1b38b073966": {
          "model_module": "@jupyter-widgets/base",
          "model_name": "LayoutModel",
          "model_module_version": "1.2.0",
          "state": {
            "_model_module": "@jupyter-widgets/base",
            "_model_module_version": "1.2.0",
            "_model_name": "LayoutModel",
            "_view_count": null,
            "_view_module": "@jupyter-widgets/base",
            "_view_module_version": "1.2.0",
            "_view_name": "LayoutView",
            "align_content": null,
            "align_items": null,
            "align_self": null,
            "border": null,
            "bottom": null,
            "display": null,
            "flex": null,
            "flex_flow": null,
            "grid_area": null,
            "grid_auto_columns": null,
            "grid_auto_flow": null,
            "grid_auto_rows": null,
            "grid_column": null,
            "grid_gap": null,
            "grid_row": null,
            "grid_template_areas": null,
            "grid_template_columns": null,
            "grid_template_rows": null,
            "height": null,
            "justify_content": null,
            "justify_items": null,
            "left": null,
            "margin": null,
            "max_height": null,
            "max_width": null,
            "min_height": null,
            "min_width": null,
            "object_fit": null,
            "object_position": null,
            "order": null,
            "overflow": null,
            "overflow_x": null,
            "overflow_y": null,
            "padding": null,
            "right": null,
            "top": null,
            "visibility": null,
            "width": null
          }
        },
        "c3ecb2e150f24a56b4213e7f7af530e8": {
          "model_module": "@jupyter-widgets/controls",
          "model_name": "DescriptionStyleModel",
          "model_module_version": "1.5.0",
          "state": {
            "_model_module": "@jupyter-widgets/controls",
            "_model_module_version": "1.5.0",
            "_model_name": "DescriptionStyleModel",
            "_view_count": null,
            "_view_module": "@jupyter-widgets/base",
            "_view_module_version": "1.2.0",
            "_view_name": "StyleView",
            "description_width": ""
          }
        },
        "78186f0fb15249ee875da79f20ab8b37": {
          "model_module": "@jupyter-widgets/base",
          "model_name": "LayoutModel",
          "model_module_version": "1.2.0",
          "state": {
            "_model_module": "@jupyter-widgets/base",
            "_model_module_version": "1.2.0",
            "_model_name": "LayoutModel",
            "_view_count": null,
            "_view_module": "@jupyter-widgets/base",
            "_view_module_version": "1.2.0",
            "_view_name": "LayoutView",
            "align_content": null,
            "align_items": null,
            "align_self": null,
            "border": null,
            "bottom": null,
            "display": null,
            "flex": null,
            "flex_flow": null,
            "grid_area": null,
            "grid_auto_columns": null,
            "grid_auto_flow": null,
            "grid_auto_rows": null,
            "grid_column": null,
            "grid_gap": null,
            "grid_row": null,
            "grid_template_areas": null,
            "grid_template_columns": null,
            "grid_template_rows": null,
            "height": null,
            "justify_content": null,
            "justify_items": null,
            "left": null,
            "margin": null,
            "max_height": null,
            "max_width": null,
            "min_height": null,
            "min_width": null,
            "object_fit": null,
            "object_position": null,
            "order": null,
            "overflow": null,
            "overflow_x": null,
            "overflow_y": null,
            "padding": null,
            "right": null,
            "top": null,
            "visibility": null,
            "width": null
          }
        },
        "502d2912548f44f0a91aff7910b07da1": {
          "model_module": "@jupyter-widgets/controls",
          "model_name": "ProgressStyleModel",
          "model_module_version": "1.5.0",
          "state": {
            "_model_module": "@jupyter-widgets/controls",
            "_model_module_version": "1.5.0",
            "_model_name": "ProgressStyleModel",
            "_view_count": null,
            "_view_module": "@jupyter-widgets/base",
            "_view_module_version": "1.2.0",
            "_view_name": "StyleView",
            "bar_color": null,
            "description_width": ""
          }
        },
        "a63890a471e947b6a36c42a421623efb": {
          "model_module": "@jupyter-widgets/base",
          "model_name": "LayoutModel",
          "model_module_version": "1.2.0",
          "state": {
            "_model_module": "@jupyter-widgets/base",
            "_model_module_version": "1.2.0",
            "_model_name": "LayoutModel",
            "_view_count": null,
            "_view_module": "@jupyter-widgets/base",
            "_view_module_version": "1.2.0",
            "_view_name": "LayoutView",
            "align_content": null,
            "align_items": null,
            "align_self": null,
            "border": null,
            "bottom": null,
            "display": null,
            "flex": null,
            "flex_flow": null,
            "grid_area": null,
            "grid_auto_columns": null,
            "grid_auto_flow": null,
            "grid_auto_rows": null,
            "grid_column": null,
            "grid_gap": null,
            "grid_row": null,
            "grid_template_areas": null,
            "grid_template_columns": null,
            "grid_template_rows": null,
            "height": null,
            "justify_content": null,
            "justify_items": null,
            "left": null,
            "margin": null,
            "max_height": null,
            "max_width": null,
            "min_height": null,
            "min_width": null,
            "object_fit": null,
            "object_position": null,
            "order": null,
            "overflow": null,
            "overflow_x": null,
            "overflow_y": null,
            "padding": null,
            "right": null,
            "top": null,
            "visibility": null,
            "width": null
          }
        },
        "7d4b99891430465db784086863789a75": {
          "model_module": "@jupyter-widgets/controls",
          "model_name": "DescriptionStyleModel",
          "model_module_version": "1.5.0",
          "state": {
            "_model_module": "@jupyter-widgets/controls",
            "_model_module_version": "1.5.0",
            "_model_name": "DescriptionStyleModel",
            "_view_count": null,
            "_view_module": "@jupyter-widgets/base",
            "_view_module_version": "1.2.0",
            "_view_name": "StyleView",
            "description_width": ""
          }
        }
      }
    }
  },
  "nbformat": 4,
  "nbformat_minor": 5
}