{
  "cells": [
    {
      "cell_type": "markdown",
      "id": "40e415d8",
      "metadata": {
        "id": "40e415d8"
      },
      "source": [
        "[![Open In Colab](https://colab.research.google.com/assets/colab-badge.svg)](https://colab.research.google.com/github/azad-academy/personalized-diffusion-tutorial/blob/main/personalized_generation_tutorial.ipynb)"
      ]
    },
    {
      "cell_type": "markdown",
      "id": "288bb469",
      "metadata": {
        "id": "288bb469"
      },
      "source": [
        "# Personalized Diffusion For Customized Image Synthesis \n",
        "\n",
        "#### Author : J. Rafid Siddiqui (jrs@azaditech.com)\n",
        "\n",
        "![Stable Diffusion Model Image](https://github.com/azad-academy/personalized_diffusion_tutorial/blob/main/cover.png)\n",
        "\n",
        "                                Personalization/Customization of Stable Diffusion Models.\n",
        " "
      ]
    },
    {
      "cell_type": "markdown",
      "source": [
        "### Getting the Repo"
      ],
      "metadata": {
        "id": "w1J0qTsX_fwz"
      },
      "id": "w1J0qTsX_fwz"
    },
    {
      "cell_type": "code",
      "source": [
        "!git clone https://github.com/azad-academy/personalized-diffusion-tutorial personalized-diffusion\n",
        "%cd personalized-diffusion"
      ],
      "metadata": {
        "id": "JVBYvqT-_SN_",
        "colab": {
          "base_uri": "https://localhost:8080/"
        },
        "outputId": "27005b08-4021-4a6f-d898-8a7c83aea9cf"
      },
      "id": "JVBYvqT-_SN_",
      "execution_count": 1,
      "outputs": [
        {
          "output_type": "stream",
          "name": "stdout",
          "text": [
            "Cloning into 'personalized-diffusion'...\n",
            "remote: Enumerating objects: 86, done.\u001b[K\n",
            "remote: Counting objects: 100% (86/86), done.\u001b[K\n",
            "remote: Compressing objects: 100% (76/76), done.\u001b[K\n",
            "remote: Total 86 (delta 13), reused 78 (delta 8), pack-reused 0\u001b[K\n",
            "Unpacking objects: 100% (86/86), done.\n",
            "/content/personalized-diffusion\n"
          ]
        }
      ]
    },
    {
      "cell_type": "markdown",
      "id": "eccb6fec",
      "metadata": {
        "id": "eccb6fec"
      },
      "source": [
        "# Pre-requisites, Imports and Initializers"
      ]
    },
    {
      "cell_type": "code",
      "execution_count": 2,
      "id": "in7n1D6VcIZe",
      "metadata": {
        "id": "in7n1D6VcIZe",
        "cellView": "form",
        "colab": {
          "base_uri": "https://localhost:8080/"
        },
        "outputId": "29a04606-0d4e-43bf-88b0-769a5e74c5cc"
      },
      "outputs": [
        {
          "output_type": "stream",
          "name": "stdout",
          "text": [
            "Done. Installed all packages\n"
          ]
        }
      ],
      "source": [
        "#@markdown # Pre-requisites\n",
        "from IPython.display import clear_output\n",
        "from subprocess import getoutput\n",
        "from IPython.utils import capture\n",
        "\n",
        "!git clone https://github.com/TheLastBen/diffusers\n",
        "!pip install git+https://github.com/TheLastBen/diffusers\n",
        "%pip install transformers\n",
        "%pip install ftfy\n",
        "%pip install accelerate==0.12.0\n",
        "%pip install bitsandbytes\n",
        "%pip install -q triton==2.0.0.dev20220701\n",
        "clear_output()\n",
        "print(\"Done. Installed all packages\")"
      ]
    },
    {
      "cell_type": "code",
      "source": [
        "#@markdown # xformers (Needed for choosing the optimal setting for the respective GPU on Google Colab)\n",
        "\n",
        "from subprocess import getoutput\n",
        "from IPython.display import HTML\n",
        "from IPython.display import clear_output\n",
        "import time\n",
        "\n",
        "s = getoutput('nvidia-smi')\n",
        "if 'T4' in s:\n",
        "  gpu = 'T4'\n",
        "elif 'P100' in s:\n",
        "  gpu = 'P100'\n",
        "elif 'V100' in s:\n",
        "  gpu = 'V100'\n",
        "elif 'A100' in s:\n",
        "  gpu = 'A100'\n",
        "\n",
        "while True:\n",
        "    try: \n",
        "        gpu=='T4'or gpu=='P100'or gpu=='V100'or gpu=='A100'\n",
        "        break\n",
        "    except:\n",
        "        pass\n",
        "    print('\u001b[1;31mit seems that your GPU is not supported at the moment')\n",
        "    time.sleep(5)\n",
        "\n",
        "if (gpu=='T4'):\n",
        "  %pip install https://github.com/TheLastBen/fast-stable-diffusion/raw/main/precompiled/T4/xformers-0.0.13.dev0-py3-none-any.whl\n",
        "  \n",
        "elif (gpu=='P100'):\n",
        "  %pip install https://github.com/TheLastBen/fast-stable-diffusion/raw/main/precompiled/P100/xformers-0.0.13.dev0-py3-none-any.whl\n",
        "\n",
        "elif (gpu=='V100'):\n",
        "  %pip install https://github.com/TheLastBen/fast-stable-diffusion/raw/main/precompiled/V100/xformers-0.0.13.dev0-py3-none-any.whl\n",
        "\n",
        "elif (gpu=='A100'):\n",
        "  %pip install https://github.com/TheLastBen/fast-stable-diffusion/raw/main/precompiled/A100/xformers-0.0.13.dev0-py3-none-any.whl  \n",
        "\n",
        "clear_output()\n",
        "print('\u001b[1;32mDONE !')"
      ],
      "metadata": {
        "cellView": "form",
        "id": "ncKdp7hykDlX",
        "colab": {
          "base_uri": "https://localhost:8080/"
        },
        "outputId": "4dff4552-d07f-40da-aa50-41225fcddd6f"
      },
      "id": "ncKdp7hykDlX",
      "execution_count": 4,
      "outputs": [
        {
          "output_type": "stream",
          "name": "stdout",
          "text": [
            "\u001b[1;32mDONE !\n"
          ]
        }
      ]
    },
    {
      "cell_type": "code",
      "source": [
        "from IPython.display import clear_output\n",
        "#Installing dependent models\n",
        "!python setup_pre-models.py\n",
        "clear_output()"
      ],
      "metadata": {
        "id": "ZlOEqBk64uYB"
      },
      "id": "ZlOEqBk64uYB",
      "execution_count": null,
      "outputs": []
    },
    {
      "cell_type": "markdown",
      "source": [
        "## HuggingFace Login"
      ],
      "metadata": {
        "id": "OIYcoS-N5eeg"
      },
      "id": "OIYcoS-N5eeg"
    },
    {
      "cell_type": "code",
      "source": [
        "#HuggingFace Login\n",
        "\n",
        "from huggingface_hub import notebook_login\n",
        "notebook_login()\n"
      ],
      "metadata": {
        "colab": {
          "base_uri": "https://localhost:8080/",
          "height": 299,
          "referenced_widgets": [
            "c6497fc3197d4dbdb23446721358b56e",
            "b9dbe1dae3cc4040a6e8aa3eaefabdc8",
            "93fbc3458a234b2a882843a1517035d7",
            "c208b6d70abd41259ec84f33ed1fed1c",
            "7b55aef3bc4c48fab7df4d190bac9745",
            "d3e60da35456405d93070614d5d2ef40",
            "f7b6751c33644d6a920975bb05507b45",
            "7e9e92adeabf4acdbc6ed76b5208d35d",
            "a71ec67fa1494efc82e070e6cd9b95bd",
            "3e5d0db52f1b4971bd3f6f187316f873",
            "81a296184d7c4a0699aea0a9cddd1f8b",
            "d55db44f233d4f25a30c9bdc847ca67c",
            "b67370b7adad407fa177d36185a1fb75",
            "66c511f2b73842c2b80fff8416bfa172"
          ]
        },
        "id": "CwIcRAA-62SO",
        "outputId": "d20f420c-4fb3-4163-aa53-ca93cccca371"
      },
      "id": "CwIcRAA-62SO",
      "execution_count": 6,
      "outputs": [
        {
          "output_type": "stream",
          "name": "stdout",
          "text": [
            "Login successful\n",
            "Your token has been saved to /root/.huggingface/token\n"
          ]
        }
      ]
    },
    {
      "cell_type": "markdown",
      "id": "z-VkmibaWtb2",
      "metadata": {
        "id": "z-VkmibaWtb2"
      },
      "source": [
        "### Mounting the Google Drive\n",
        "Execute this, If you would want to keep the session active and not login or download model again and again."
      ]
    },
    {
      "cell_type": "code",
      "execution_count": 7,
      "id": "Rsd7IELtWr-Y",
      "metadata": {
        "colab": {
          "base_uri": "https://localhost:8080/"
        },
        "id": "Rsd7IELtWr-Y",
        "outputId": "4fac3286-cadb-4719-a7e0-1f27e2f02a4b"
      },
      "outputs": [
        {
          "output_type": "stream",
          "name": "stdout",
          "text": [
            "Mounted at /content/drive/\n"
          ]
        }
      ],
      "source": [
        "from google.colab import drive\n",
        "drive.mount('/content/drive/')\n",
        "\n",
        "cache_dir = \"/content/drive/MyDrive/Colab Notebooks/weights\" #@param {type:\"string\"}\n",
        "cache_drive = True"
      ]
    },
    {
      "cell_type": "code",
      "source": [
        "from huggingface_hub import hf_hub_download\n",
        "print(\"Downloading the model, Please Wait...\")\n",
        "model_path = hf_hub_download(repo_id=\"CompVis/stable-diffusion-v-1-4-original\", filename=\"sd-v1-4.ckpt\",cache_dir=\"/content/drive/MyDrive/Colab Notebooks/weights\")\n",
        "print(\"Downloaded Model: \"+ model_path)\n"
      ],
      "metadata": {
        "colab": {
          "base_uri": "https://localhost:8080/",
          "height": 104,
          "referenced_widgets": [
            "aedaa0a501204c569b504378155f43cc",
            "39c7e327c8d64202a0c5769e8630b03e",
            "50da187b747e4b20b835a0cf4241a2dd",
            "b9445487545d48b7a79b2f6f9461e8b2",
            "33030f1978ba471eb72099542ffaab5d",
            "2ce706586ee94013b0f63d5558421c6f",
            "7ad387a8a6014b5c8473ebd97cc0509e",
            "a33bde60e1b1413cbb61d0f3d4a44ff8",
            "4452341f06604daea34ea35e98513657",
            "6f4e335cae0548df91877cb4e40e7b21",
            "778379b5bd33414ea78c5db67b04fcd2"
          ]
        },
        "id": "ENA4tSLJvg3m",
        "outputId": "54f38afc-3afc-4f5b-d350-f5f9bf1ecf9b"
      },
      "id": "ENA4tSLJvg3m",
      "execution_count": 8,
      "outputs": [
        {
          "output_type": "stream",
          "name": "stdout",
          "text": [
            "Downloading the model, Please Wait...\n"
          ]
        },
        {
          "output_type": "display_data",
          "data": {
            "text/plain": [
              "Downloading:   0%|          | 0.00/4.27G [00:00<?, ?B/s]"
            ],
            "application/vnd.jupyter.widget-view+json": {
              "version_major": 2,
              "version_minor": 0,
              "model_id": "aedaa0a501204c569b504378155f43cc"
            }
          },
          "metadata": {}
        },
        {
          "output_type": "stream",
          "name": "stdout",
          "text": [
            "Downloaded Model: /content/drive/MyDrive/Colab Notebooks/weights/models--CompVis--stable-diffusion-v-1-4-original/snapshots/0834a76f88354683d3f7ef271cadd28f4757a8cc/sd-v1-4.ckpt\n"
          ]
        }
      ]
    },
    {
      "cell_type": "markdown",
      "source": [
        "## Texual Inversion"
      ],
      "metadata": {
        "id": "vdMWJGpU8TNT"
      },
      "id": "vdMWJGpU8TNT"
    },
    {
      "cell_type": "markdown",
      "source": [
        "### Generating Customized Images using the Learned Embeddings:"
      ],
      "metadata": {
        "id": "j433AH0D8ytw"
      },
      "id": "j433AH0D8ytw"
    },
    {
      "cell_type": "code",
      "source": [
        "import os\n",
        "from IPython.display import clear_output\n",
        "from subprocess import getoutput\n",
        "from IPython.utils import capture\n",
        "import time\n",
        "\n",
        "EMBEDDING__NAME=\"shifu\" #@param{type: 'string'}\n",
        "\n",
        "MODEL_PATH='' #@param{type:'string'}         \n",
        "\n",
        "if model_path:\n",
        "  MODEL_PATH=model_path\n",
        "\n",
        "#Copy the embeddings in the WebUI directory\n",
        "!cp /content/personalized-diffusion/embeddings/* /content/personalized-diffusion/stable-diffusion-webui/embeddings/"
      ],
      "metadata": {
        "id": "Qs5OMSox8uFX"
      },
      "id": "Qs5OMSox8uFX",
      "execution_count": 9,
      "outputs": []
    },
    {
      "cell_type": "markdown",
      "source": [
        "### Running the Web Interface\n",
        "1. Run the following cell to start a Local Web Server. \n",
        "2. Click on the URL in the output of the cell which redirect to a local tunnel. \n",
        "3. Click on the continue button to reach the web interface of the SD Image Tool.\n",
        "4. Use name of the embedding (e.g. shifu, aphrodite etc.) in the prompt and it will automatically be loaded.\n"
      ],
      "metadata": {
        "id": "NpC-RXW4byb9"
      },
      "id": "NpC-RXW4byb9"
    },
    {
      "cell_type": "code",
      "source": [
        "#Running the Web SD Tool\n",
        "%cd /content/personalized-diffusion/stable-diffusion/\n",
        "!python ../run.py \"{MODEL_PATH}\""
      ],
      "metadata": {
        "id": "yFritrJq46ta"
      },
      "id": "yFritrJq46ta",
      "execution_count": null,
      "outputs": []
    },
    {
      "cell_type": "markdown",
      "id": "j5Y5qlSvYV8U",
      "metadata": {
        "id": "j5Y5qlSvYV8U"
      },
      "source": [
        "## Customized Image Generation with DreamBooth\n"
      ]
    },
    {
      "cell_type": "markdown",
      "id": "H7K3lEr3bhAy",
      "metadata": {
        "id": "H7K3lEr3bhAy"
      },
      "source": [
        "### Downloading the fine-tuned models\n"
      ]
    },
    {
      "cell_type": "code",
      "source": [
        "#Downloading the Models Fine-Tuned on different objects (e.g. pegasus, android, etc.)\n",
        "\n",
        "if not os.path.exists(\"/content/personalized-diffusion/models/pegasus.ckpt\"):\n",
        "    !wget https://huggingface.co/azad-wolf-se/personalized-diffusion/resolve/main/pegasus.ckpt -O /content/personalized-diffusion/models/pegasus.ckpt\n",
        "if not os.path.exists(\"/content/personalized-diffusion/models/centaur.ckpt\"):\n",
        "    !wget https://huggingface.co/azad-wolf-se/personalized-diffusion/resolve/main/centaur.ckpt -O /content/personalized-diffusion/models/centaur.ckpt\n",
        "if not os.path.exists(\"/content/personalized-diffusion/models/android.ckpt\"):\n",
        "    !wget https://huggingface.co/azad-wolf-se/personalized-diffusion/resolve/main/android.ckpt -O /content/personalized-diffusion/models/android.ckpt\n",
        "if not os.path.exists(\"/content/personalized-diffusion/models/Gru.ckpt\"):\n",
        "    !wget https://huggingface.co/azad-wolf-se/personalized-diffusion/resolve/main/Gru.ckpt -O /content/personalized-diffusion/models/Gru.ckpt\n",
        "\n",
        "clear_output()"
      ],
      "metadata": {
        "id": "Tuq5omS7lSTy"
      },
      "id": "Tuq5omS7lSTy",
      "execution_count": 11,
      "outputs": []
    },
    {
      "cell_type": "code",
      "source": [
        "import os\n",
        "from IPython.display import clear_output\n",
        "from subprocess import getoutput\n",
        "from IPython.utils import capture\n",
        "import time\n",
        "\n",
        "MODEL_NAME=\"centaur\" #@param{type: 'string'}\n",
        "\n",
        "MODEL_PATH='/content/personalized-diffusion/models/' #@param{type:'string'}         \n",
        "MODEL_PATH=MODEL_PATH+\"{}\".format(MODEL_NAME)+\".ckpt\"\n"
      ],
      "metadata": {
        "id": "QcpzXFmtQyjE"
      },
      "id": "QcpzXFmtQyjE",
      "execution_count": 12,
      "outputs": []
    },
    {
      "cell_type": "markdown",
      "id": "9POraum_rEmb",
      "metadata": {
        "id": "9POraum_rEmb"
      },
      "source": [
        "### Running with the customized Model"
      ]
    },
    {
      "cell_type": "code",
      "source": [
        "#Running the SD Web Tool (You might need to stop the earlier running tool)\n",
        "%cd /content/personalized-diffusion/stable-diffusion/\n",
        "!python ../run.py \"{MODEL_PATH}\"\n"
      ],
      "metadata": {
        "id": "NLhCnaxcm8Y4"
      },
      "id": "NLhCnaxcm8Y4",
      "execution_count": null,
      "outputs": []
    },
    {
      "cell_type": "markdown",
      "id": "bb416a34",
      "metadata": {
        "id": "bb416a34"
      },
      "source": [
        "# References"
      ]
    },
    {
      "cell_type": "markdown",
      "id": "9dc4bcbb",
      "metadata": {
        "id": "9dc4bcbb"
      },
      "source": [
        "\n",
        "[1] Robin Rombach, Andreas Blattmann, Dominik Lorenz, Patrick Esser, Björn Ommer, [Latent Diffusion Models](https://arxiv.org/abs/2112.10752), 2022\n",
        "\n",
        "[2] Rinon Gal, Yuval Alaluf, Yuval Atzmon, Or Patashnik, Amit H. Bermano, Gal Chechik, Daniel Cohen-Or, [An Image is Worth One Word: Personalizing Text-to-Image Generation using Textual Inversion](https://arxiv.org/abs/2208.01618), 2022\n",
        "\n",
        "[3] Nataniel Ruiz, Yuanzhen Li, Varun Jampani, Yael Pritch, Michael Rubinstein, Kfir Aberman, [DreamBooth: Fine Tuning Text-to-Image Diffusion Models for Subject-Driven Generation](https://arxiv.org/abs/2208.12242), 2022"
      ]
    }
  ],
  "metadata": {
    "accelerator": "GPU",
    "colab": {
      "collapsed_sections": [],
      "provenance": []
    },
    "kernelspec": {
      "display_name": "Python 3 (ipykernel)",
      "language": "python",
      "name": "python3"
    },
    "language_info": {
      "codemirror_mode": {
        "name": "ipython",
        "version": 3
      },
      "file_extension": ".py",
      "mimetype": "text/x-python",
      "name": "python",
      "nbconvert_exporter": "python",
      "pygments_lexer": "ipython3",
      "version": "3.9.7"
    },
    "widgets": {
      "application/vnd.jupyter.widget-state+json": {
        "c6497fc3197d4dbdb23446721358b56e": {
          "model_module": "@jupyter-widgets/controls",
          "model_name": "VBoxModel",
          "model_module_version": "1.5.0",
          "state": {
            "_dom_classes": [],
            "_model_module": "@jupyter-widgets/controls",
            "_model_module_version": "1.5.0",
            "_model_name": "VBoxModel",
            "_view_count": null,
            "_view_module": "@jupyter-widgets/controls",
            "_view_module_version": "1.5.0",
            "_view_name": "VBoxView",
            "box_style": "",
            "children": [
              "IPY_MODEL_b9dbe1dae3cc4040a6e8aa3eaefabdc8",
              "IPY_MODEL_93fbc3458a234b2a882843a1517035d7",
              "IPY_MODEL_c208b6d70abd41259ec84f33ed1fed1c",
              "IPY_MODEL_7b55aef3bc4c48fab7df4d190bac9745"
            ],
            "layout": "IPY_MODEL_d3e60da35456405d93070614d5d2ef40"
          }
        },
        "b9dbe1dae3cc4040a6e8aa3eaefabdc8": {
          "model_module": "@jupyter-widgets/controls",
          "model_name": "HTMLModel",
          "model_module_version": "1.5.0",
          "state": {
            "_dom_classes": [],
            "_model_module": "@jupyter-widgets/controls",
            "_model_module_version": "1.5.0",
            "_model_name": "HTMLModel",
            "_view_count": null,
            "_view_module": "@jupyter-widgets/controls",
            "_view_module_version": "1.5.0",
            "_view_name": "HTMLView",
            "description": "",
            "description_tooltip": null,
            "layout": "IPY_MODEL_f7b6751c33644d6a920975bb05507b45",
            "placeholder": "​",
            "style": "IPY_MODEL_7e9e92adeabf4acdbc6ed76b5208d35d",
            "value": "<center> <img\nsrc=https://huggingface.co/front/assets/huggingface_logo-noborder.svg\nalt='Hugging Face'> <br> Copy a token from <a\nhref=\"https://huggingface.co/settings/tokens\" target=\"_blank\">your Hugging Face\ntokens page</a> and paste it below. <br> Immediately click login after copying\nyour token or it might be stored in plain text in this notebook file. </center>"
          }
        },
        "93fbc3458a234b2a882843a1517035d7": {
          "model_module": "@jupyter-widgets/controls",
          "model_name": "PasswordModel",
          "model_module_version": "1.5.0",
          "state": {
            "_dom_classes": [],
            "_model_module": "@jupyter-widgets/controls",
            "_model_module_version": "1.5.0",
            "_model_name": "PasswordModel",
            "_view_count": null,
            "_view_module": "@jupyter-widgets/controls",
            "_view_module_version": "1.5.0",
            "_view_name": "PasswordView",
            "continuous_update": true,
            "description": "Token:",
            "description_tooltip": null,
            "disabled": false,
            "layout": "IPY_MODEL_a71ec67fa1494efc82e070e6cd9b95bd",
            "placeholder": "​",
            "style": "IPY_MODEL_3e5d0db52f1b4971bd3f6f187316f873",
            "value": ""
          }
        },
        "c208b6d70abd41259ec84f33ed1fed1c": {
          "model_module": "@jupyter-widgets/controls",
          "model_name": "ButtonModel",
          "model_module_version": "1.5.0",
          "state": {
            "_dom_classes": [],
            "_model_module": "@jupyter-widgets/controls",
            "_model_module_version": "1.5.0",
            "_model_name": "ButtonModel",
            "_view_count": null,
            "_view_module": "@jupyter-widgets/controls",
            "_view_module_version": "1.5.0",
            "_view_name": "ButtonView",
            "button_style": "",
            "description": "Login",
            "disabled": false,
            "icon": "",
            "layout": "IPY_MODEL_81a296184d7c4a0699aea0a9cddd1f8b",
            "style": "IPY_MODEL_d55db44f233d4f25a30c9bdc847ca67c",
            "tooltip": ""
          }
        },
        "7b55aef3bc4c48fab7df4d190bac9745": {
          "model_module": "@jupyter-widgets/controls",
          "model_name": "HTMLModel",
          "model_module_version": "1.5.0",
          "state": {
            "_dom_classes": [],
            "_model_module": "@jupyter-widgets/controls",
            "_model_module_version": "1.5.0",
            "_model_name": "HTMLModel",
            "_view_count": null,
            "_view_module": "@jupyter-widgets/controls",
            "_view_module_version": "1.5.0",
            "_view_name": "HTMLView",
            "description": "",
            "description_tooltip": null,
            "layout": "IPY_MODEL_b67370b7adad407fa177d36185a1fb75",
            "placeholder": "​",
            "style": "IPY_MODEL_66c511f2b73842c2b80fff8416bfa172",
            "value": "\n<b>Pro Tip:</b> If you don't already have one, you can create a dedicated\n'notebooks' token with 'write' access, that you can then easily reuse for all\nnotebooks. </center>"
          }
        },
        "d3e60da35456405d93070614d5d2ef40": {
          "model_module": "@jupyter-widgets/base",
          "model_name": "LayoutModel",
          "model_module_version": "1.2.0",
          "state": {
            "_model_module": "@jupyter-widgets/base",
            "_model_module_version": "1.2.0",
            "_model_name": "LayoutModel",
            "_view_count": null,
            "_view_module": "@jupyter-widgets/base",
            "_view_module_version": "1.2.0",
            "_view_name": "LayoutView",
            "align_content": null,
            "align_items": "center",
            "align_self": null,
            "border": null,
            "bottom": null,
            "display": "flex",
            "flex": null,
            "flex_flow": "column",
            "grid_area": null,
            "grid_auto_columns": null,
            "grid_auto_flow": null,
            "grid_auto_rows": null,
            "grid_column": null,
            "grid_gap": null,
            "grid_row": null,
            "grid_template_areas": null,
            "grid_template_columns": null,
            "grid_template_rows": null,
            "height": null,
            "justify_content": null,
            "justify_items": null,
            "left": null,
            "margin": null,
            "max_height": null,
            "max_width": null,
            "min_height": null,
            "min_width": null,
            "object_fit": null,
            "object_position": null,
            "order": null,
            "overflow": null,
            "overflow_x": null,
            "overflow_y": null,
            "padding": null,
            "right": null,
            "top": null,
            "visibility": null,
            "width": "50%"
          }
        },
        "f7b6751c33644d6a920975bb05507b45": {
          "model_module": "@jupyter-widgets/base",
          "model_name": "LayoutModel",
          "model_module_version": "1.2.0",
          "state": {
            "_model_module": "@jupyter-widgets/base",
            "_model_module_version": "1.2.0",
            "_model_name": "LayoutModel",
            "_view_count": null,
            "_view_module": "@jupyter-widgets/base",
            "_view_module_version": "1.2.0",
            "_view_name": "LayoutView",
            "align_content": null,
            "align_items": null,
            "align_self": null,
            "border": null,
            "bottom": null,
            "display": null,
            "flex": null,
            "flex_flow": null,
            "grid_area": null,
            "grid_auto_columns": null,
            "grid_auto_flow": null,
            "grid_auto_rows": null,
            "grid_column": null,
            "grid_gap": null,
            "grid_row": null,
            "grid_template_areas": null,
            "grid_template_columns": null,
            "grid_template_rows": null,
            "height": null,
            "justify_content": null,
            "justify_items": null,
            "left": null,
            "margin": null,
            "max_height": null,
            "max_width": null,
            "min_height": null,
            "min_width": null,
            "object_fit": null,
            "object_position": null,
            "order": null,
            "overflow": null,
            "overflow_x": null,
            "overflow_y": null,
            "padding": null,
            "right": null,
            "top": null,
            "visibility": null,
            "width": null
          }
        },
        "7e9e92adeabf4acdbc6ed76b5208d35d": {
          "model_module": "@jupyter-widgets/controls",
          "model_name": "DescriptionStyleModel",
          "model_module_version": "1.5.0",
          "state": {
            "_model_module": "@jupyter-widgets/controls",
            "_model_module_version": "1.5.0",
            "_model_name": "DescriptionStyleModel",
            "_view_count": null,
            "_view_module": "@jupyter-widgets/base",
            "_view_module_version": "1.2.0",
            "_view_name": "StyleView",
            "description_width": ""
          }
        },
        "a71ec67fa1494efc82e070e6cd9b95bd": {
          "model_module": "@jupyter-widgets/base",
          "model_name": "LayoutModel",
          "model_module_version": "1.2.0",
          "state": {
            "_model_module": "@jupyter-widgets/base",
            "_model_module_version": "1.2.0",
            "_model_name": "LayoutModel",
            "_view_count": null,
            "_view_module": "@jupyter-widgets/base",
            "_view_module_version": "1.2.0",
            "_view_name": "LayoutView",
            "align_content": null,
            "align_items": null,
            "align_self": null,
            "border": null,
            "bottom": null,
            "display": null,
            "flex": null,
            "flex_flow": null,
            "grid_area": null,
            "grid_auto_columns": null,
            "grid_auto_flow": null,
            "grid_auto_rows": null,
            "grid_column": null,
            "grid_gap": null,
            "grid_row": null,
            "grid_template_areas": null,
            "grid_template_columns": null,
            "grid_template_rows": null,
            "height": null,
            "justify_content": null,
            "justify_items": null,
            "left": null,
            "margin": null,
            "max_height": null,
            "max_width": null,
            "min_height": null,
            "min_width": null,
            "object_fit": null,
            "object_position": null,
            "order": null,
            "overflow": null,
            "overflow_x": null,
            "overflow_y": null,
            "padding": null,
            "right": null,
            "top": null,
            "visibility": null,
            "width": null
          }
        },
        "3e5d0db52f1b4971bd3f6f187316f873": {
          "model_module": "@jupyter-widgets/controls",
          "model_name": "DescriptionStyleModel",
          "model_module_version": "1.5.0",
          "state": {
            "_model_module": "@jupyter-widgets/controls",
            "_model_module_version": "1.5.0",
            "_model_name": "DescriptionStyleModel",
            "_view_count": null,
            "_view_module": "@jupyter-widgets/base",
            "_view_module_version": "1.2.0",
            "_view_name": "StyleView",
            "description_width": ""
          }
        },
        "81a296184d7c4a0699aea0a9cddd1f8b": {
          "model_module": "@jupyter-widgets/base",
          "model_name": "LayoutModel",
          "model_module_version": "1.2.0",
          "state": {
            "_model_module": "@jupyter-widgets/base",
            "_model_module_version": "1.2.0",
            "_model_name": "LayoutModel",
            "_view_count": null,
            "_view_module": "@jupyter-widgets/base",
            "_view_module_version": "1.2.0",
            "_view_name": "LayoutView",
            "align_content": null,
            "align_items": null,
            "align_self": null,
            "border": null,
            "bottom": null,
            "display": null,
            "flex": null,
            "flex_flow": null,
            "grid_area": null,
            "grid_auto_columns": null,
            "grid_auto_flow": null,
            "grid_auto_rows": null,
            "grid_column": null,
            "grid_gap": null,
            "grid_row": null,
            "grid_template_areas": null,
            "grid_template_columns": null,
            "grid_template_rows": null,
            "height": null,
            "justify_content": null,
            "justify_items": null,
            "left": null,
            "margin": null,
            "max_height": null,
            "max_width": null,
            "min_height": null,
            "min_width": null,
            "object_fit": null,
            "object_position": null,
            "order": null,
            "overflow": null,
            "overflow_x": null,
            "overflow_y": null,
            "padding": null,
            "right": null,
            "top": null,
            "visibility": null,
            "width": null
          }
        },
        "d55db44f233d4f25a30c9bdc847ca67c": {
          "model_module": "@jupyter-widgets/controls",
          "model_name": "ButtonStyleModel",
          "model_module_version": "1.5.0",
          "state": {
            "_model_module": "@jupyter-widgets/controls",
            "_model_module_version": "1.5.0",
            "_model_name": "ButtonStyleModel",
            "_view_count": null,
            "_view_module": "@jupyter-widgets/base",
            "_view_module_version": "1.2.0",
            "_view_name": "StyleView",
            "button_color": null,
            "font_weight": ""
          }
        },
        "b67370b7adad407fa177d36185a1fb75": {
          "model_module": "@jupyter-widgets/base",
          "model_name": "LayoutModel",
          "model_module_version": "1.2.0",
          "state": {
            "_model_module": "@jupyter-widgets/base",
            "_model_module_version": "1.2.0",
            "_model_name": "LayoutModel",
            "_view_count": null,
            "_view_module": "@jupyter-widgets/base",
            "_view_module_version": "1.2.0",
            "_view_name": "LayoutView",
            "align_content": null,
            "align_items": null,
            "align_self": null,
            "border": null,
            "bottom": null,
            "display": null,
            "flex": null,
            "flex_flow": null,
            "grid_area": null,
            "grid_auto_columns": null,
            "grid_auto_flow": null,
            "grid_auto_rows": null,
            "grid_column": null,
            "grid_gap": null,
            "grid_row": null,
            "grid_template_areas": null,
            "grid_template_columns": null,
            "grid_template_rows": null,
            "height": null,
            "justify_content": null,
            "justify_items": null,
            "left": null,
            "margin": null,
            "max_height": null,
            "max_width": null,
            "min_height": null,
            "min_width": null,
            "object_fit": null,
            "object_position": null,
            "order": null,
            "overflow": null,
            "overflow_x": null,
            "overflow_y": null,
            "padding": null,
            "right": null,
            "top": null,
            "visibility": null,
            "width": null
          }
        },
        "66c511f2b73842c2b80fff8416bfa172": {
          "model_module": "@jupyter-widgets/controls",
          "model_name": "DescriptionStyleModel",
          "model_module_version": "1.5.0",
          "state": {
            "_model_module": "@jupyter-widgets/controls",
            "_model_module_version": "1.5.0",
            "_model_name": "DescriptionStyleModel",
            "_view_count": null,
            "_view_module": "@jupyter-widgets/base",
            "_view_module_version": "1.2.0",
            "_view_name": "StyleView",
            "description_width": ""
          }
        },
        "aedaa0a501204c569b504378155f43cc": {
          "model_module": "@jupyter-widgets/controls",
          "model_name": "HBoxModel",
          "model_module_version": "1.5.0",
          "state": {
            "_dom_classes": [],
            "_model_module": "@jupyter-widgets/controls",
            "_model_module_version": "1.5.0",
            "_model_name": "HBoxModel",
            "_view_count": null,
            "_view_module": "@jupyter-widgets/controls",
            "_view_module_version": "1.5.0",
            "_view_name": "HBoxView",
            "box_style": "",
            "children": [
              "IPY_MODEL_39c7e327c8d64202a0c5769e8630b03e",
              "IPY_MODEL_50da187b747e4b20b835a0cf4241a2dd",
              "IPY_MODEL_b9445487545d48b7a79b2f6f9461e8b2"
            ],
            "layout": "IPY_MODEL_33030f1978ba471eb72099542ffaab5d"
          }
        },
        "39c7e327c8d64202a0c5769e8630b03e": {
          "model_module": "@jupyter-widgets/controls",
          "model_name": "HTMLModel",
          "model_module_version": "1.5.0",
          "state": {
            "_dom_classes": [],
            "_model_module": "@jupyter-widgets/controls",
            "_model_module_version": "1.5.0",
            "_model_name": "HTMLModel",
            "_view_count": null,
            "_view_module": "@jupyter-widgets/controls",
            "_view_module_version": "1.5.0",
            "_view_name": "HTMLView",
            "description": "",
            "description_tooltip": null,
            "layout": "IPY_MODEL_2ce706586ee94013b0f63d5558421c6f",
            "placeholder": "​",
            "style": "IPY_MODEL_7ad387a8a6014b5c8473ebd97cc0509e",
            "value": "Downloading: 100%"
          }
        },
        "50da187b747e4b20b835a0cf4241a2dd": {
          "model_module": "@jupyter-widgets/controls",
          "model_name": "FloatProgressModel",
          "model_module_version": "1.5.0",
          "state": {
            "_dom_classes": [],
            "_model_module": "@jupyter-widgets/controls",
            "_model_module_version": "1.5.0",
            "_model_name": "FloatProgressModel",
            "_view_count": null,
            "_view_module": "@jupyter-widgets/controls",
            "_view_module_version": "1.5.0",
            "_view_name": "ProgressView",
            "bar_style": "success",
            "description": "",
            "description_tooltip": null,
            "layout": "IPY_MODEL_a33bde60e1b1413cbb61d0f3d4a44ff8",
            "max": 4265380512,
            "min": 0,
            "orientation": "horizontal",
            "style": "IPY_MODEL_4452341f06604daea34ea35e98513657",
            "value": 4265380512
          }
        },
        "b9445487545d48b7a79b2f6f9461e8b2": {
          "model_module": "@jupyter-widgets/controls",
          "model_name": "HTMLModel",
          "model_module_version": "1.5.0",
          "state": {
            "_dom_classes": [],
            "_model_module": "@jupyter-widgets/controls",
            "_model_module_version": "1.5.0",
            "_model_name": "HTMLModel",
            "_view_count": null,
            "_view_module": "@jupyter-widgets/controls",
            "_view_module_version": "1.5.0",
            "_view_name": "HTMLView",
            "description": "",
            "description_tooltip": null,
            "layout": "IPY_MODEL_6f4e335cae0548df91877cb4e40e7b21",
            "placeholder": "​",
            "style": "IPY_MODEL_778379b5bd33414ea78c5db67b04fcd2",
            "value": " 4.27G/4.27G [01:39&lt;00:00, 34.2MB/s]"
          }
        },
        "33030f1978ba471eb72099542ffaab5d": {
          "model_module": "@jupyter-widgets/base",
          "model_name": "LayoutModel",
          "model_module_version": "1.2.0",
          "state": {
            "_model_module": "@jupyter-widgets/base",
            "_model_module_version": "1.2.0",
            "_model_name": "LayoutModel",
            "_view_count": null,
            "_view_module": "@jupyter-widgets/base",
            "_view_module_version": "1.2.0",
            "_view_name": "LayoutView",
            "align_content": null,
            "align_items": null,
            "align_self": null,
            "border": null,
            "bottom": null,
            "display": null,
            "flex": null,
            "flex_flow": null,
            "grid_area": null,
            "grid_auto_columns": null,
            "grid_auto_flow": null,
            "grid_auto_rows": null,
            "grid_column": null,
            "grid_gap": null,
            "grid_row": null,
            "grid_template_areas": null,
            "grid_template_columns": null,
            "grid_template_rows": null,
            "height": null,
            "justify_content": null,
            "justify_items": null,
            "left": null,
            "margin": null,
            "max_height": null,
            "max_width": null,
            "min_height": null,
            "min_width": null,
            "object_fit": null,
            "object_position": null,
            "order": null,
            "overflow": null,
            "overflow_x": null,
            "overflow_y": null,
            "padding": null,
            "right": null,
            "top": null,
            "visibility": null,
            "width": null
          }
        },
        "2ce706586ee94013b0f63d5558421c6f": {
          "model_module": "@jupyter-widgets/base",
          "model_name": "LayoutModel",
          "model_module_version": "1.2.0",
          "state": {
            "_model_module": "@jupyter-widgets/base",
            "_model_module_version": "1.2.0",
            "_model_name": "LayoutModel",
            "_view_count": null,
            "_view_module": "@jupyter-widgets/base",
            "_view_module_version": "1.2.0",
            "_view_name": "LayoutView",
            "align_content": null,
            "align_items": null,
            "align_self": null,
            "border": null,
            "bottom": null,
            "display": null,
            "flex": null,
            "flex_flow": null,
            "grid_area": null,
            "grid_auto_columns": null,
            "grid_auto_flow": null,
            "grid_auto_rows": null,
            "grid_column": null,
            "grid_gap": null,
            "grid_row": null,
            "grid_template_areas": null,
            "grid_template_columns": null,
            "grid_template_rows": null,
            "height": null,
            "justify_content": null,
            "justify_items": null,
            "left": null,
            "margin": null,
            "max_height": null,
            "max_width": null,
            "min_height": null,
            "min_width": null,
            "object_fit": null,
            "object_position": null,
            "order": null,
            "overflow": null,
            "overflow_x": null,
            "overflow_y": null,
            "padding": null,
            "right": null,
            "top": null,
            "visibility": null,
            "width": null
          }
        },
        "7ad387a8a6014b5c8473ebd97cc0509e": {
          "model_module": "@jupyter-widgets/controls",
          "model_name": "DescriptionStyleModel",
          "model_module_version": "1.5.0",
          "state": {
            "_model_module": "@jupyter-widgets/controls",
            "_model_module_version": "1.5.0",
            "_model_name": "DescriptionStyleModel",
            "_view_count": null,
            "_view_module": "@jupyter-widgets/base",
            "_view_module_version": "1.2.0",
            "_view_name": "StyleView",
            "description_width": ""
          }
        },
        "a33bde60e1b1413cbb61d0f3d4a44ff8": {
          "model_module": "@jupyter-widgets/base",
          "model_name": "LayoutModel",
          "model_module_version": "1.2.0",
          "state": {
            "_model_module": "@jupyter-widgets/base",
            "_model_module_version": "1.2.0",
            "_model_name": "LayoutModel",
            "_view_count": null,
            "_view_module": "@jupyter-widgets/base",
            "_view_module_version": "1.2.0",
            "_view_name": "LayoutView",
            "align_content": null,
            "align_items": null,
            "align_self": null,
            "border": null,
            "bottom": null,
            "display": null,
            "flex": null,
            "flex_flow": null,
            "grid_area": null,
            "grid_auto_columns": null,
            "grid_auto_flow": null,
            "grid_auto_rows": null,
            "grid_column": null,
            "grid_gap": null,
            "grid_row": null,
            "grid_template_areas": null,
            "grid_template_columns": null,
            "grid_template_rows": null,
            "height": null,
            "justify_content": null,
            "justify_items": null,
            "left": null,
            "margin": null,
            "max_height": null,
            "max_width": null,
            "min_height": null,
            "min_width": null,
            "object_fit": null,
            "object_position": null,
            "order": null,
            "overflow": null,
            "overflow_x": null,
            "overflow_y": null,
            "padding": null,
            "right": null,
            "top": null,
            "visibility": null,
            "width": null
          }
        },
        "4452341f06604daea34ea35e98513657": {
          "model_module": "@jupyter-widgets/controls",
          "model_name": "ProgressStyleModel",
          "model_module_version": "1.5.0",
          "state": {
            "_model_module": "@jupyter-widgets/controls",
            "_model_module_version": "1.5.0",
            "_model_name": "ProgressStyleModel",
            "_view_count": null,
            "_view_module": "@jupyter-widgets/base",
            "_view_module_version": "1.2.0",
            "_view_name": "StyleView",
            "bar_color": null,
            "description_width": ""
          }
        },
        "6f4e335cae0548df91877cb4e40e7b21": {
          "model_module": "@jupyter-widgets/base",
          "model_name": "LayoutModel",
          "model_module_version": "1.2.0",
          "state": {
            "_model_module": "@jupyter-widgets/base",
            "_model_module_version": "1.2.0",
            "_model_name": "LayoutModel",
            "_view_count": null,
            "_view_module": "@jupyter-widgets/base",
            "_view_module_version": "1.2.0",
            "_view_name": "LayoutView",
            "align_content": null,
            "align_items": null,
            "align_self": null,
            "border": null,
            "bottom": null,
            "display": null,
            "flex": null,
            "flex_flow": null,
            "grid_area": null,
            "grid_auto_columns": null,
            "grid_auto_flow": null,
            "grid_auto_rows": null,
            "grid_column": null,
            "grid_gap": null,
            "grid_row": null,
            "grid_template_areas": null,
            "grid_template_columns": null,
            "grid_template_rows": null,
            "height": null,
            "justify_content": null,
            "justify_items": null,
            "left": null,
            "margin": null,
            "max_height": null,
            "max_width": null,
            "min_height": null,
            "min_width": null,
            "object_fit": null,
            "object_position": null,
            "order": null,
            "overflow": null,
            "overflow_x": null,
            "overflow_y": null,
            "padding": null,
            "right": null,
            "top": null,
            "visibility": null,
            "width": null
          }
        },
        "778379b5bd33414ea78c5db67b04fcd2": {
          "model_module": "@jupyter-widgets/controls",
          "model_name": "DescriptionStyleModel",
          "model_module_version": "1.5.0",
          "state": {
            "_model_module": "@jupyter-widgets/controls",
            "_model_module_version": "1.5.0",
            "_model_name": "DescriptionStyleModel",
            "_view_count": null,
            "_view_module": "@jupyter-widgets/base",
            "_view_module_version": "1.2.0",
            "_view_name": "StyleView",
            "description_width": ""
          }
        }
      }
    }
  },
  "nbformat": 4,
  "nbformat_minor": 5
}